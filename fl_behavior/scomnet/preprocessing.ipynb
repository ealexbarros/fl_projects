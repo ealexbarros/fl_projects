{
 "cells": [
  {
   "cell_type": "code",
   "execution_count": 1,
   "id": "44b4bcb2",
   "metadata": {},
   "outputs": [],
   "source": [
    "import os, shutil, glob\n",
    "import ujson as json\n",
    "import pandas as pd\n",
    "import csv\n",
    "import timeit\n",
    "import numpy as np"
   ]
  },
  {
   "cell_type": "code",
   "execution_count": 2,
   "id": "937b8680",
   "metadata": {},
   "outputs": [],
   "source": [
    "path = '/home/joaoneto/biometria/sensors'\n",
    "users_path = [ f.path for f in os.scandir(path) if f.is_dir() ]\n",
    "screens = ['Focus', 'Mathisis', 'Memoria', 'Reacton', 'Speedy']\n",
    "screens_code = ['1', '2', '3', '4', '5']\n",
    "\n",
    "list_dir = os.listdir(path)\n",
    "users_list = []\n",
    "for sub_dir in list_dir:\n",
    "    users_list.append(sub_dir)"
   ]
  },
  {
   "cell_type": "code",
   "execution_count": 3,
   "id": "f77866a3",
   "metadata": {},
   "outputs": [],
   "source": [
    "def convert_to_csv(signal, path, users):\n",
    "    users_processed = 0\n",
    "    for i in range(0, len(users)):\n",
    "        users_processed += 1\n",
    "        print('Progress: {}/{} users processed'.format(users_processed, len(users)))\n",
    "\n",
    "        json_files = [pos_json for pos_json in os.listdir(users_path[i]) if pos_json.endswith('.json')]\n",
    "        \n",
    "        data_signal = pd.DataFrame(columns=['x', 'y', 'z', 'screen', 'player_id', 'timestamp'])\n",
    "\n",
    "        for file in json_files:\n",
    "            js = file.replace('.json','')\n",
    "            arr = js.split('_')\n",
    "\n",
    "            with open(users_path[i] + \"/\" + file,'r') as f:\n",
    "                data = json.loads(f.read())\n",
    "\n",
    "            df = pd.json_normalize(data, record_path =[path],\n",
    "                meta=['player_id']\n",
    "            )\n",
    "            df['timestamp'] = arr[1]          \n",
    "            \n",
    "            data_signal = data_signal.append(df, ignore_index=True)\n",
    "            \n",
    "        x_signal = f'x_{signal}'\n",
    "        y_signal = f'y_{signal}'\n",
    "        z_signal = f'z_{signal}'    \n",
    "\n",
    "        new = [x_signal, y_signal, z_signal, 'screen', 'player_id', 'timestamp']\n",
    "        new_df = pd.DataFrame(data_signal.values, data_signal.index, new)\n",
    "        \n",
    "        # print(new_df['player_id'].value_counts())\n",
    "        \n",
    "        filter_values = new_df['screen'].str.contains('|'.join(screens),regex=True)\n",
    "        new_df_filter = new_df[filter_values]\n",
    "        saving_directory = '/home/joaoneto/biometria/{arr[0]}_{signal}.csv'\n",
    "        new_df_filter.to_csv(saving_directory, index=False)"
   ]
  },
  {
   "cell_type": "code",
   "execution_count": 4,
   "id": "01b1c562",
   "metadata": {},
   "outputs": [
    {
     "name": "stdout",
     "output_type": "stream",
     "text": [
      "Progress: 1/101002 users processed\n",
      "Progress: 2/101002 users processed\n",
      "Progress: 3/101002 users processed\n",
      "Progress: 4/101002 users processed\n",
      "Progress: 5/101002 users processed\n",
      "Progress: 6/101002 users processed\n",
      "Progress: 7/101002 users processed\n",
      "Progress: 8/101002 users processed\n"
     ]
    },
    {
     "ename": "IndexError",
     "evalue": "list index out of range",
     "output_type": "error",
     "traceback": [
      "\u001b[0;31m---------------------------------------------------------------------------\u001b[0m",
      "\u001b[0;31mIndexError\u001b[0m                                Traceback (most recent call last)",
      "\u001b[0;32m/tmp/ipykernel_20565/3827366576.py\u001b[0m in \u001b[0;36m<module>\u001b[0;34m\u001b[0m\n\u001b[0;32m----> 1\u001b[0;31m \u001b[0mconvert_to_csv\u001b[0m\u001b[0;34m(\u001b[0m\u001b[0msignal\u001b[0m\u001b[0;34m=\u001b[0m\u001b[0;34m'accel'\u001b[0m\u001b[0;34m,\u001b[0m \u001b[0mpath\u001b[0m\u001b[0;34m=\u001b[0m\u001b[0;34m'accelerometer'\u001b[0m\u001b[0;34m,\u001b[0m \u001b[0musers\u001b[0m\u001b[0;34m=\u001b[0m\u001b[0musers_list\u001b[0m\u001b[0;34m)\u001b[0m\u001b[0;34m\u001b[0m\u001b[0;34m\u001b[0m\u001b[0m\n\u001b[0m\u001b[1;32m      2\u001b[0m \u001b[0mconvert_to_csv\u001b[0m\u001b[0;34m(\u001b[0m\u001b[0msignal\u001b[0m\u001b[0;34m=\u001b[0m\u001b[0;34m'gyro'\u001b[0m\u001b[0;34m,\u001b[0m \u001b[0mpath\u001b[0m\u001b[0;34m=\u001b[0m\u001b[0;34m'gyroscope'\u001b[0m\u001b[0;34m,\u001b[0m \u001b[0musers\u001b[0m\u001b[0;34m=\u001b[0m\u001b[0musers_list\u001b[0m\u001b[0;34m)\u001b[0m\u001b[0;34m\u001b[0m\u001b[0;34m\u001b[0m\u001b[0m\n",
      "\u001b[0;32m/tmp/ipykernel_20565/2808435156.py\u001b[0m in \u001b[0;36mconvert_to_csv\u001b[0;34m(signal, path, users)\u001b[0m\n\u001b[1;32m      5\u001b[0m         \u001b[0mprint\u001b[0m\u001b[0;34m(\u001b[0m\u001b[0;34m'Progress: {}/{} users processed'\u001b[0m\u001b[0;34m.\u001b[0m\u001b[0mformat\u001b[0m\u001b[0;34m(\u001b[0m\u001b[0musers_processed\u001b[0m\u001b[0;34m,\u001b[0m \u001b[0mlen\u001b[0m\u001b[0;34m(\u001b[0m\u001b[0musers\u001b[0m\u001b[0;34m)\u001b[0m\u001b[0;34m)\u001b[0m\u001b[0;34m)\u001b[0m\u001b[0;34m\u001b[0m\u001b[0;34m\u001b[0m\u001b[0m\n\u001b[1;32m      6\u001b[0m \u001b[0;34m\u001b[0m\u001b[0m\n\u001b[0;32m----> 7\u001b[0;31m         \u001b[0mjson_files\u001b[0m \u001b[0;34m=\u001b[0m \u001b[0;34m[\u001b[0m\u001b[0mpos_json\u001b[0m \u001b[0;32mfor\u001b[0m \u001b[0mpos_json\u001b[0m \u001b[0;32min\u001b[0m \u001b[0mos\u001b[0m\u001b[0;34m.\u001b[0m\u001b[0mlistdir\u001b[0m\u001b[0;34m(\u001b[0m\u001b[0musers_path\u001b[0m\u001b[0;34m[\u001b[0m\u001b[0mi\u001b[0m\u001b[0;34m]\u001b[0m\u001b[0;34m)\u001b[0m \u001b[0;32mif\u001b[0m \u001b[0mpos_json\u001b[0m\u001b[0;34m.\u001b[0m\u001b[0mendswith\u001b[0m\u001b[0;34m(\u001b[0m\u001b[0;34m'.json'\u001b[0m\u001b[0;34m)\u001b[0m\u001b[0;34m]\u001b[0m\u001b[0;34m\u001b[0m\u001b[0;34m\u001b[0m\u001b[0m\n\u001b[0m\u001b[1;32m      8\u001b[0m \u001b[0;34m\u001b[0m\u001b[0m\n\u001b[1;32m      9\u001b[0m         \u001b[0mdata_signal\u001b[0m \u001b[0;34m=\u001b[0m \u001b[0mpd\u001b[0m\u001b[0;34m.\u001b[0m\u001b[0mDataFrame\u001b[0m\u001b[0;34m(\u001b[0m\u001b[0mcolumns\u001b[0m\u001b[0;34m=\u001b[0m\u001b[0;34m[\u001b[0m\u001b[0;34m'x'\u001b[0m\u001b[0;34m,\u001b[0m \u001b[0;34m'y'\u001b[0m\u001b[0;34m,\u001b[0m \u001b[0;34m'z'\u001b[0m\u001b[0;34m,\u001b[0m \u001b[0;34m'screen'\u001b[0m\u001b[0;34m,\u001b[0m \u001b[0;34m'player_id'\u001b[0m\u001b[0;34m,\u001b[0m \u001b[0;34m'timestamp'\u001b[0m\u001b[0;34m]\u001b[0m\u001b[0;34m)\u001b[0m\u001b[0;34m\u001b[0m\u001b[0;34m\u001b[0m\u001b[0m\n",
      "\u001b[0;31mIndexError\u001b[0m: list index out of range"
     ]
    }
   ],
   "source": [
    "convert_to_csv(signal='accel', path='accelerometer', users=users_list)\n",
    "convert_to_csv(signal='gyro', path='gyroscope', users=users_list)"
   ]
  },
  {
   "cell_type": "code",
   "execution_count": null,
   "id": "89ac536d",
   "metadata": {},
   "outputs": [],
   "source": []
  }
 ],
 "metadata": {
  "kernelspec": {
   "display_name": "Python 3",
   "language": "python",
   "name": "python3"
  },
  "language_info": {
   "codemirror_mode": {
    "name": "ipython",
    "version": 3
   },
   "file_extension": ".py",
   "mimetype": "text/x-python",
   "name": "python",
   "nbconvert_exporter": "python",
   "pygments_lexer": "ipython3",
   "version": "3.6.9"
  }
 },
 "nbformat": 4,
 "nbformat_minor": 5
}
