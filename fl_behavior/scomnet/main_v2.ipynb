{
 "cells": [
  {
   "cell_type": "code",
   "execution_count": null,
   "metadata": {},
   "outputs": [],
   "source": []
  },
  {
   "cell_type": "code",
   "execution_count": 93,
   "metadata": {},
   "outputs": [
    {
     "name": "stdout",
     "output_type": "stream",
     "text": [
      "          0         1         2         3         4         5         6  \\\n",
      "0  0.974487  0.150391 -0.007202  0.981323  0.130493 -0.029541  1.020996   \n",
      "1  0.975220  0.190674 -0.019531  0.977661  0.190430 -0.015991  0.969360   \n",
      "\n",
      "          7         8         9  ...       375       376       377       378  \\\n",
      "0  0.142456 -0.014526  0.973633  ...  0.962158  0.203979  0.002197  0.973999   \n",
      "1  0.199829 -0.018921  0.969727  ...  0.952759  0.130737 -0.091064  0.985596   \n",
      "\n",
      "        379       380       381       382       383     user  \n",
      "0  0.178955  0.006470  0.972168  0.195435  0.021973  4fjfjlm  \n",
      "1  0.111694 -0.081543  0.973633  0.146851 -0.087402  4fjfjlm  \n",
      "\n",
      "[2 rows x 385 columns]\n"
     ]
    }
   ],
   "source": [
    "import glob\n",
    "import os\n",
    "import pandas as pd\n",
    "import numpy as np\n",
    "\n",
    "def split(data, frame_size=128, step=50):\n",
    "    train = []\n",
    "    user_list = []\n",
    "    for user, group_data in data.groupby(\"player_id\"):\n",
    "        for w in range(0, group_data.shape[0] - frame_size, step):\n",
    "            end = w + frame_size        \n",
    "            frame = group_data.iloc[w:end,[0, 1, 2]]        \n",
    "            train.append(frame)\n",
    "            user_list.append(user)\n",
    "    return train, user_list\n",
    "\n",
    "base_path = \"/home/joaoneto/biometria/csv_files\"\n",
    "\n",
    "data = pd.concat([ pd.read_csv(csv_file_path) for csv_file_path in glob.glob(f\"{base_path}/*/*.csv\")])\n",
    "# print(data)\n",
    "\n",
    "train_set, user_list = split(data)\n",
    "train_set = np.array([np.array(x) for x in train_set])\n",
    "train_set_join = train_set.reshape(train_set.shape[0], 384)\n",
    "data_join = pd.DataFrame(train_set_join)\n",
    "data_join[\"user\"] = user_list\n",
    "print(data_join[data_join[\"user\"] == \"4fjfjlm\"])\n",
    "\n",
    "train_ds, val_ds, X_test, y_test, n = split_dataframe(data_join)"
   ]
  },
  {
   "cell_type": "code",
   "execution_count": null,
   "metadata": {},
   "outputs": [],
   "source": []
  }
 ],
 "metadata": {
  "interpreter": {
   "hash": "a3076e4d686fdac0577152aca8fce892c560968826f96fd358e26af5d5e0a369"
  },
  "kernelspec": {
   "display_name": "Python 3",
   "language": "python",
   "name": "python3"
  },
  "language_info": {
   "codemirror_mode": {
    "name": "ipython",
    "version": 3
   },
   "file_extension": ".py",
   "mimetype": "text/x-python",
   "name": "python",
   "nbconvert_exporter": "python",
   "pygments_lexer": "ipython3",
   "version": "3.6.9"
  }
 },
 "nbformat": 4,
 "nbformat_minor": 2
}
