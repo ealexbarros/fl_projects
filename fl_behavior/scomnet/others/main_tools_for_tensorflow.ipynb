{
 "cells": [
  {
   "cell_type": "code",
   "execution_count": 4,
   "metadata": {},
   "outputs": [],
   "source": [
    "#create the main tools used in tensoflow_federated to process dataset on /home/joaoneto/biometria/csv_files/"
   ]
  }
 ],
 "metadata": {
  "interpreter": {
   "hash": "45b22abdc663dd95fe2b31b21881b19f9e8c03a3526201f103a811814e038740"
  },
  "kernelspec": {
   "display_name": "Python 3.9.7 ('venv': conda)",
   "language": "python",
   "name": "python3"
  },
  "language_info": {
   "codemirror_mode": {
    "name": "ipython",
    "version": 3
   },
   "file_extension": ".py",
   "mimetype": "text/x-python",
   "name": "python",
   "nbconvert_exporter": "python",
   "pygments_lexer": "ipython3",
   "version": "3.9.7"
  },
  "orig_nbformat": 4
 },
 "nbformat": 4,
 "nbformat_minor": 2
}
