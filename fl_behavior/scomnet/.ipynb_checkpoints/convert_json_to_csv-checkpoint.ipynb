{
 "cells": [
  {
   "cell_type": "code",
   "execution_count": null,
   "metadata": {},
   "outputs": [],
   "source": [
    "import glob\n",
    "import pandas as pd\n",
    "import os\n",
    "import json"
   ]
  },
  {
   "cell_type": "code",
   "execution_count": null,
   "metadata": {},
   "outputs": [],
   "source": [
    "\n",
    "for json_file_path in glob.glob('/home/joaoneto/biometria/sensors/**/*.json'):\n",
    "    user = json_file_path.split(\"/\")[-2]\n",
    "    print(f\"Reading file from user {user}...\")\n",
    "    filename = json_file_path.split(\"/\")[-1][:-5]\n",
    "\n",
    "    with open(json_file_path) as json_data:\n",
    "        data = json.load(json_data)\n",
    "        \n",
    "    df = pd.DataFrame(data['accelerometer'])\n",
    "\n",
    "    if not os.path.exists(f\"/home/joaoneto/biometria/{user}\"):\n",
    "        print(f\"Creating directory /home/joaoneto/biometria/{user}...\")\n",
    "        os.makedirs(f\"/home/joaoneto/biometria/{user}\", exist_ok=True)\n",
    "    \n",
    "    print(f\"Exporting file /home/joaoneto/biometria/{user}/{filename}.csv\")\n",
    "    df.to_csv(f\"/home/joaoneto/biometria/{user}/{filename}.csv\", index=False)"
   ]
  }
 ],
 "metadata": {
  "kernelspec": {
   "display_name": "Python 3",
   "language": "python",
   "name": "python3"
  },
  "language_info": {
   "codemirror_mode": {
    "name": "ipython",
    "version": 3
   },
   "file_extension": ".py",
   "mimetype": "text/x-python",
   "name": "python",
   "nbconvert_exporter": "python",
   "pygments_lexer": "ipython3",
   "version": "3.6.9"
  }
 },
 "nbformat": 4,
 "nbformat_minor": 2
}
