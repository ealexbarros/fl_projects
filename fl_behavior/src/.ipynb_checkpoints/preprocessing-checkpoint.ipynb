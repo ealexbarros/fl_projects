{
 "cells": [
  {
   "cell_type": "code",
   "execution_count": 1,
   "id": "3e6104fc",
   "metadata": {},
   "outputs": [],
   "source": [
    "import os, shutil, glob\n",
    "import ujson as json\n",
    "import pandas as pd\n",
    "import csv\n",
    "import timeit\n",
    "import numpy as np"
   ]
  },
  {
   "cell_type": "code",
   "execution_count": null,
   "id": "accdaf9e",
   "metadata": {},
   "outputs": [],
   "source": [
    "path = ''\n",
    "users_path = [ f.path for f in os.scandir(path) if f.is_dir() ]\n",
    "screens = ['Focus', 'Mathisis', 'Memoria', 'Reacton', 'Speedy']\n",
    "screens_code = ['1', '2', '3', '4', '5']\n",
    "\n",
    "list_dir = os.listdir(path)\n",
    "users_list = []\n",
    "for sub_dir in list_dir:\n",
    "    users_list.append(sub_dir)"
   ]
  },
  {
   "cell_type": "code",
   "execution_count": null,
   "id": "902dbade",
   "metadata": {},
   "outputs": [],
   "source": [
    "def convert_to_csv(signal, path, users):\n",
    "    users_processed = 0\n",
    "    for i in range(0, len(users)):\n",
    "        users_processed += 1\n",
    "        print('Progress: {}/{} users processed'.format(users_processed, len(users)))\n",
    "\n",
    "        json_files = [pos_json for pos_json in os.listdir(users_path[i]) if pos_json.endswith('.json')]\n",
    "        \n",
    "        data_signal = pd.DataFrame(columns=['x', 'y', 'z', 'screen', 'player_id', 'timestamp'])\n",
    "\n",
    "        for file in json_files:\n",
    "            js = file.replace('.json','')\n",
    "            arr = js.split('_')\n",
    "\n",
    "            with open(users_path[i] + \"/\" + file,'r') as f:\n",
    "                data = json.loads(f.read())\n",
    "\n",
    "            df = pd.json_normalize(data, record_path =[path],\n",
    "                meta=['player_id']\n",
    "            )\n",
    "            df['timestamp'] = arr[1]          \n",
    "            \n",
    "            data_signal = data_signal.append(df, ignore_index=True)\n",
    "            \n",
    "        x_signal = f'x_{signal}'\n",
    "        y_signal = f'y_{signal}'\n",
    "        z_signal = f'z_{signal}'    \n",
    "\n",
    "        new = [x_signal, y_signal, z_signal, 'screen', 'player_id', 'timestamp']\n",
    "        new_df = pd.DataFrame(data_signal.values, data_signal.index, new)\n",
    "        \n",
    "        #print(new_df['player_id'].value_counts())\n",
    "        \n",
    "        filter_values = new_df['screen'].str.contains('|'.join(screens),regex=True)\n",
    "        new_df_filter = new_df[filter_values]\n",
    "        saving_directory = f'data/{signal}/{arr[0]}_{signal}.csv'\n",
    "        new_df_filter.to_csv(saving_directory, index=False)"
   ]
  },
  {
   "cell_type": "code",
   "execution_count": null,
   "id": "9e8c8def",
   "metadata": {},
   "outputs": [],
   "source": [
    "convert_to_csv(signal='accel', path='accelerometer', users=users_list)\n",
    "convert_to_csv(signal='gyro', path='gyroscope', users=users_list)"
   ]
  }
 ],
 "metadata": {
  "kernelspec": {
   "display_name": "Python 3 (ipykernel)",
   "language": "python",
   "name": "python3"
  },
  "language_info": {
   "codemirror_mode": {
    "name": "ipython",
    "version": 3
   },
   "file_extension": ".py",
   "mimetype": "text/x-python",
   "name": "python",
   "nbconvert_exporter": "python",
   "pygments_lexer": "ipython3",
   "version": "3.8.12"
  }
 },
 "nbformat": 4,
 "nbformat_minor": 5
}
