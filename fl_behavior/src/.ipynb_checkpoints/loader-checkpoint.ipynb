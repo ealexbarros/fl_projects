{
 "cells": [
  {
   "cell_type": "code",
   "execution_count": null,
   "id": "66932e74",
   "metadata": {},
   "outputs": [],
   "source": [
    "import os, shutil, glob\n",
    "import sys"
   ]
  },
  {
   "cell_type": "code",
   "execution_count": null,
   "id": "3b0c9115",
   "metadata": {},
   "outputs": [],
   "source": [
    "path = ''\n",
    "users = [ f.path for f in os.scandir(path) if f.is_dir() ]"
   ]
  },
  {
   "cell_type": "code",
   "execution_count": null,
   "id": "d5fba8b8",
   "metadata": {},
   "outputs": [],
   "source": [
    "json_files = [pos_json for pos_json in os.listdir(path) if pos_json.endswith('.json')]\n",
    "\n",
    "users = []\n",
    "for file in json_files:\n",
    "    users.append(file.split('_')[0])\n",
    "\n",
    "user_list = sorted(set(users))\n",
    "\n",
    "list_dir = os.listdir(path)\n",
    "\n",
    "for sub_dir in list_dir:\n",
    "    if sub_dir in users_list:\n",
    "        dir_to_move = os.path.join(path, sub_dir)\n",
    "        shutil.move(dir_to_move, dest)"
   ]
  },
  {
   "cell_type": "code",
   "execution_count": null,
   "id": "2c30c2cd",
   "metadata": {},
   "outputs": [],
   "source": [
    "for file_path in glob.glob(os.path.join(path, '*.json*')):\n",
    "    new_dir = file_path.rsplit('_', 1)[0]\n",
    "    # If folder does not exist try making new one\n",
    "    try:\n",
    "        os.mkdir(os.path.join(path, new_dir))\n",
    "    # except error then pass\n",
    "    except WindowsError:\n",
    "        pass\n",
    "    # Move the images from file to new folder based on image name\n",
    "    shutil.move(file_path, os.path.join(new_dir, os.path.basename(file_path)))"
   ]
  }
 ],
 "metadata": {
  "kernelspec": {
   "display_name": "Python 3 (ipykernel)",
   "language": "python",
   "name": "python3"
  },
  "language_info": {
   "codemirror_mode": {
    "name": "ipython",
    "version": 3
   },
   "file_extension": ".py",
   "mimetype": "text/x-python",
   "name": "python",
   "nbconvert_exporter": "python",
   "pygments_lexer": "ipython3",
   "version": "3.8.12"
  }
 },
 "nbformat": 4,
 "nbformat_minor": 5
}
