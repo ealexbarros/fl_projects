{
 "cells": [
  {
   "cell_type": "code",
   "execution_count": 1,
   "id": "bcbe2737",
   "metadata": {},
   "outputs": [],
   "source": [
    "import torch\n",
    "import torch.nn as nn"
   ]
  },
  {
   "cell_type": "code",
   "execution_count": 2,
   "id": "e945b883",
   "metadata": {},
   "outputs": [],
   "source": [
    "class CNNModel(nn.Module):\n",
    "    def __init__(self, input_size, num_classes):\n",
    "        super().__init__()\n",
    "        \n",
    "        self.conv1 = nn.Conv1d(3, 128, 8)\n",
    "        self.bnorm1 = nn.BatchNorm1d(128)        \n",
    "        self.conv2 = nn.Conv1d(128, 256, 5)\n",
    "        self.bnorm2 = nn.BatchNorm1d(256)\n",
    "        self.conv3 = nn.Conv1d(256, 128, 3)\n",
    "        self.bnorm3 = nn.BatchNorm1d(128)        \n",
    "        self.dense = nn.Linear(128, num_classes)\n",
    "        self.avg = nn.AvgPool1d(3)\n",
    "        \n",
    "    def forward(self, x):        \n",
    "        x = F.relu(self.bnorm1(self.conv1(x)))\n",
    "        x = F.relu(self.bnorm2(self.conv2(x)))\n",
    "        x = F.relu(self.bnorm3(self.conv3(x)))       \n",
    "        x = self.avg(x)\n",
    "        x = x.view(-1, x.shape[1]*x.shape[2])\n",
    "        x = self.dense(x)\n",
    "        return F.softmax(x, dim=1)"
   ]
  },
  {
   "cell_type": "code",
   "execution_count": null,
   "id": "0d9ed1f1",
   "metadata": {},
   "outputs": [],
   "source": []
  }
 ],
 "metadata": {
  "kernelspec": {
   "display_name": "Python 3 (ipykernel)",
   "language": "python",
   "name": "python3"
  },
  "language_info": {
   "codemirror_mode": {
    "name": "ipython",
    "version": 3
   },
   "file_extension": ".py",
   "mimetype": "text/x-python",
   "name": "python",
   "nbconvert_exporter": "python",
   "pygments_lexer": "ipython3",
   "version": "3.8.12"
  }
 },
 "nbformat": 4,
 "nbformat_minor": 5
}
